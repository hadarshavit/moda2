{
 "cells": [
  {
   "cell_type": "code",
   "execution_count": 1,
   "metadata": {},
   "outputs": [],
   "source": [
    "from desdeo_mcdm.utilities.solvers import solve_pareto_front_representation\n",
    "from desdeo_emo.EAs import NSGAIII\n",
    "from modules.utils import save\n",
    "from modules.GeometryDesign.problem import create_problem\n",
    "import numpy as np\n",
    "import warnings\n",
    "warnings.filterwarnings(\"ignore\") # ignore warnings :)\n",
    "\n",
    "\n",
    "# Creating geometry design problem : tent like buildings\n",
    "# Which objectives do you wish to optimize\n",
    "# surface area, volume, min height and floor area\n",
    "obj = np.array([\n",
    "    True, True, False, False, # Optimizing Surface area and min height and ignoring others,\n",
    "])\n",
    "\n",
    "# ideal and nadir in respective order\n",
    "# ideal = 0, 1, 1, 1\n",
    "# nadir = 5, 0, 0, 0\n",
    "\n",
    "\n",
    "# Set constraint for objectives, [lower, upper]\n",
    "# If no constraint then set it to None\n",
    "# Each row represents a objective function in the same order as in obj_gd \n",
    "# Notice that breaking constraints will result in a penalty and therefore we might get results that break the constraints\n",
    "# constraints = np.array([\n",
    "#     [0.2, None], # Surface area > 0.2\n",
    "#     [.5, .8], # .5 < volume < .8. Even though we're not optimizing volume, we can set a constraint on it  \n",
    "#     [.4, None], #  min height > .4\n",
    "#     [None, 0.6], # floor area < .6 \n",
    "# ])\n",
    "constraints = None\n",
    "# How many 3d points should the hull be formed of\n",
    "# more points => More complex problem : longer execution times\n",
    "# Less points => More likely to fail in constructing the hull\n",
    "variable_count = 10 # Around 15 - 25 seems to be good enough\n",
    "\n",
    "# To create the problem we can call the gd_create method with the parameters defined earlier\n",
    "# the pfront argument should be set to True if using the solve_pareto_front_representation method as it doesn't \n",
    "# take account minimizing/maximizing. For everything else we can set it to False\n",
    "# The method returns a MOProblem and a scalarmethod instance which can be passed to different Desdeo objects\n",
    "problem, method = create_problem(variable_count , obj, constraints, pfront = True, constant_floor=True)\n",
    "\n",
    "# Two methods to solve the problem are shown below. Do not use them both at the same time!\n",
    "# Use one, and comment out the other!\n",
    "\n",
    "# Example on solving the pareto front : This might take some time so feel free to comment this out (lines 57 and 60).\n",
    "\n",
    "# We will use the solve_pareto_front_representation method but one can change this to something else.\n",
    "# The method takes the problem instance and a step size array\n",
    "\n",
    "# The method will create reference points from nadir to ideal with these step sizes\n",
    "# in this case : ref points = [[5,0,0,0], [4.5, 0, 0, 0], [4, 0, 0, 0] ... [5, 0.2, 0, 0] ... [0, 1, 1, 1]]\n",
    "# large step sizes => less solutions but faster calculation\n",
    "# step_sizes = np.array([.5, .2, .2, .2])[obj]\n",
    "\n",
    "# # The method returns the decision vectors and corresponding objective vectors\n",
    "# var, obj = solve_pareto_front_representation(problem, step_sizes, solver_method= method)\n",
    "\n",
    "# Example on solving the pareto front using NSGA-III\n",
    "\n",
    "evolver = NSGAIII(problem,\n",
    "                  n_iterations=10,\n",
    "                  n_gen_per_iter=100,\n",
    "                  population_size=100)\n",
    "\n",
    "while evolver.continue_evolution():\n",
    "    evolver.iterate()\n",
    "\n",
    "var, obj, _ = evolver.end()\n",
    "\n",
    "# save the solution if you wish, make sure to change the name to not accidentally overwrite an existing solution.\n",
    "# Saved solutions can be used later to visualize it\n",
    "# The solution will be saved to modules/DataAndVisualization/'name'\n",
    "# save(\"gdExample\", obj, var, problem.nadir, problem.ideal)\n"
   ]
  },
  {
   "cell_type": "code",
   "execution_count": 2,
   "metadata": {},
   "outputs": [],
   "source": [
    "import pandas as pd\n",
    "df = pd.DataFrame(var)\n",
    "df.to_csv(\"decision_vectors_4.csv\")\n",
    "\n",
    "df = pd.DataFrame(obj)\n",
    "df.to_csv(\"decision_objectives_4.csv\")"
   ]
  },
  {
   "cell_type": "code",
   "execution_count": 3,
   "metadata": {},
   "outputs": [
    {
     "data": {
      "image/png": "[encoded data removed]",
      "text/plain": [
       "<Figure size 1080x432 with 1 Axes>"
      ]
     },
     "metadata": {
      "needs_background": "light"
     },
     "output_type": "display_data"
    }
   ],
   "source": [
    "import matplotlib.pyplot as plt\n",
    "\n",
    "fig = plt.figure(figsize=(15,6))\n",
    "plt.scatter(obj[:,0], -obj[:,1])\n",
    "plt.xlabel(\"Surface area\")\n",
    "plt.ylabel(\"Volume\")\n",
    "plt.savefig('Tents10/pareto.png')"
   ]
  },
  {
   "cell_type": "code",
   "execution_count": 5,
   "metadata": {},
   "outputs": [
    {
     "name": "stdout",
     "output_type": "stream",
     "text": [
      "(8, 3)\n",
      "-0.49831098227154447 1.8046984428318327\n",
      "-3.370030533980248e-05 1.000000018201086\n",
      "-0.3423438795614929 1.0000000182012032\n"
     ]
    },
    {
     "data": {
      "text/plain": [
       "<Figure size 432x288 with 0 Axes>"
      ]
     },
     "metadata": {},
     "output_type": "display_data"
    }
   ],
   "source": [
    "from modules.GeometryDesign.tent import Tent\n",
    "box_points = np.array([\n",
    "        [0,0,0], [1,0,0], [0,1,0], [1,1,0], # floor corners\n",
    "        [0,0,1], [1,0,1], [0,1,1], [1,1,1] # Ceiling/roof corners\n",
    "    ])\n",
    "print(box_points.shape)\n",
    "\n",
    "i=0\n",
    "print(obj[i,1], obj[i, 0])\n",
    "box_points = np.reshape(var[i], (variable_count + 4, 3))\n",
    "# Instansiate the object\n",
    "box = Tent(box_points)\n",
    "# Plot the box\n",
    "box.plot()\n",
    "plt.savefig(f'Tents10/tentFirstObj.png')\n",
    "plt.clf()\n",
    "\n",
    "i=len(var) - 1\n",
    "print(obj[i,1], obj[i, 0])\n",
    "box_points = np.reshape(var[i], (variable_count + 4, 3))\n",
    "# Instansiate the object\n",
    "box = Tent(box_points)\n",
    "# Plot the box\n",
    "box.plot()\n",
    "plt.savefig(f'Tents10/tentSecondObj.png')\n",
    "plt.clf()\n",
    "\n",
    "i=int(len(var)/2)\n",
    "print(obj[i,1], obj[i, 0])\n",
    "box_points = np.reshape(var[i], (variable_count + 4, 3))\n",
    "# Instansiate the object\n",
    "box = Tent(box_points)\n",
    "# Plot the box\n",
    "box.plot()\n",
    "plt.savefig(f'Tents10/tentKneeObj.png')\n",
    "plt.clf()"
   ]
  }
 ],
 "metadata": {
  "interpreter": {
   "hash": "bff6929f2c816f482cf8ac4424e10471bb1c632de8edcfc3cb4217c14461c3a6"
  },
  "kernelspec": {
   "display_name": "Python 3.8.13",
   "language": "python",
   "name": "python3"
  },
  "language_info": {
   "codemirror_mode": {
    "name": "ipython",
    "version": 3
   },
   "file_extension": ".py",
   "mimetype": "text/x-python",
   "name": "python",
   "nbconvert_exporter": "python",
   "pygments_lexer": "ipython3",
   "version": "3.8.13"
  }
 },
 "nbformat": 4,
 "nbformat_minor": 4
}
